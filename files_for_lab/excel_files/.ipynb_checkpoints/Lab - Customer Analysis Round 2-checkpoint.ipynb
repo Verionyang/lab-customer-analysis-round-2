{
 "cells": [
  {
   "cell_type": "code",
   "execution_count": 1,
   "id": "3f0b8207",
   "metadata": {},
   "outputs": [],
   "source": [
    "import numpy as np\n",
    "import pandas as pd"
   ]
  },
  {
   "cell_type": "code",
   "execution_count": 2,
   "id": "ee3c217f",
   "metadata": {},
   "outputs": [
    {
     "data": {
      "text/plain": [
       "(10910, 26)"
      ]
     },
     "metadata": {},
     "output_type": "display_data"
    },
    {
     "data": {
      "text/html": [
       "<div>\n",
       "<style scoped>\n",
       "    .dataframe tbody tr th:only-of-type {\n",
       "        vertical-align: middle;\n",
       "    }\n",
       "\n",
       "    .dataframe tbody tr th {\n",
       "        vertical-align: top;\n",
       "    }\n",
       "\n",
       "    .dataframe thead th {\n",
       "        text-align: right;\n",
       "    }\n",
       "</style>\n",
       "<table border=\"1\" class=\"dataframe\">\n",
       "  <thead>\n",
       "    <tr style=\"text-align: right;\">\n",
       "      <th></th>\n",
       "      <th>Unnamed: 0</th>\n",
       "      <th>Customer</th>\n",
       "      <th>State</th>\n",
       "      <th>Customer Lifetime Value</th>\n",
       "      <th>Response</th>\n",
       "      <th>Coverage</th>\n",
       "      <th>Education</th>\n",
       "      <th>Effective To Date</th>\n",
       "      <th>EmploymentStatus</th>\n",
       "      <th>Gender</th>\n",
       "      <th>...</th>\n",
       "      <th>Number of Open Complaints</th>\n",
       "      <th>Number of Policies</th>\n",
       "      <th>Policy Type</th>\n",
       "      <th>Policy</th>\n",
       "      <th>Renew Offer Type</th>\n",
       "      <th>Sales Channel</th>\n",
       "      <th>Total Claim Amount</th>\n",
       "      <th>Vehicle Class</th>\n",
       "      <th>Vehicle Size</th>\n",
       "      <th>Vehicle Type</th>\n",
       "    </tr>\n",
       "  </thead>\n",
       "  <tbody>\n",
       "    <tr>\n",
       "      <th>0</th>\n",
       "      <td>0.0</td>\n",
       "      <td>DK49336</td>\n",
       "      <td>Arizona</td>\n",
       "      <td>4809.216960</td>\n",
       "      <td>No</td>\n",
       "      <td>Basic</td>\n",
       "      <td>College</td>\n",
       "      <td>2011-02-18</td>\n",
       "      <td>Employed</td>\n",
       "      <td>M</td>\n",
       "      <td>...</td>\n",
       "      <td>0.0</td>\n",
       "      <td>9.0</td>\n",
       "      <td>Corporate Auto</td>\n",
       "      <td>Corporate L3</td>\n",
       "      <td>Offer3</td>\n",
       "      <td>Agent</td>\n",
       "      <td>292.800000</td>\n",
       "      <td>Four-Door Car</td>\n",
       "      <td>Medsize</td>\n",
       "      <td>NaN</td>\n",
       "    </tr>\n",
       "    <tr>\n",
       "      <th>1</th>\n",
       "      <td>1.0</td>\n",
       "      <td>KX64629</td>\n",
       "      <td>California</td>\n",
       "      <td>2228.525238</td>\n",
       "      <td>No</td>\n",
       "      <td>Basic</td>\n",
       "      <td>College</td>\n",
       "      <td>2011-01-18</td>\n",
       "      <td>Unemployed</td>\n",
       "      <td>F</td>\n",
       "      <td>...</td>\n",
       "      <td>0.0</td>\n",
       "      <td>1.0</td>\n",
       "      <td>Personal Auto</td>\n",
       "      <td>Personal L3</td>\n",
       "      <td>Offer4</td>\n",
       "      <td>Call Center</td>\n",
       "      <td>744.924331</td>\n",
       "      <td>Four-Door Car</td>\n",
       "      <td>Medsize</td>\n",
       "      <td>NaN</td>\n",
       "    </tr>\n",
       "    <tr>\n",
       "      <th>2</th>\n",
       "      <td>2.0</td>\n",
       "      <td>LZ68649</td>\n",
       "      <td>Washington</td>\n",
       "      <td>14947.917300</td>\n",
       "      <td>No</td>\n",
       "      <td>Basic</td>\n",
       "      <td>Bachelor</td>\n",
       "      <td>2011-02-10</td>\n",
       "      <td>Employed</td>\n",
       "      <td>M</td>\n",
       "      <td>...</td>\n",
       "      <td>0.0</td>\n",
       "      <td>2.0</td>\n",
       "      <td>Personal Auto</td>\n",
       "      <td>Personal L3</td>\n",
       "      <td>Offer3</td>\n",
       "      <td>Call Center</td>\n",
       "      <td>480.000000</td>\n",
       "      <td>SUV</td>\n",
       "      <td>Medsize</td>\n",
       "      <td>A</td>\n",
       "    </tr>\n",
       "    <tr>\n",
       "      <th>3</th>\n",
       "      <td>3.0</td>\n",
       "      <td>XL78013</td>\n",
       "      <td>Oregon</td>\n",
       "      <td>22332.439460</td>\n",
       "      <td>Yes</td>\n",
       "      <td>Extended</td>\n",
       "      <td>College</td>\n",
       "      <td>2011-01-11</td>\n",
       "      <td>Employed</td>\n",
       "      <td>M</td>\n",
       "      <td>...</td>\n",
       "      <td>0.0</td>\n",
       "      <td>2.0</td>\n",
       "      <td>Corporate Auto</td>\n",
       "      <td>Corporate L3</td>\n",
       "      <td>Offer2</td>\n",
       "      <td>Branch</td>\n",
       "      <td>484.013411</td>\n",
       "      <td>Four-Door Car</td>\n",
       "      <td>Medsize</td>\n",
       "      <td>A</td>\n",
       "    </tr>\n",
       "    <tr>\n",
       "      <th>4</th>\n",
       "      <td>4.0</td>\n",
       "      <td>QA50777</td>\n",
       "      <td>Oregon</td>\n",
       "      <td>9025.067525</td>\n",
       "      <td>No</td>\n",
       "      <td>Premium</td>\n",
       "      <td>Bachelor</td>\n",
       "      <td>2011-01-17</td>\n",
       "      <td>Medical Leave</td>\n",
       "      <td>F</td>\n",
       "      <td>...</td>\n",
       "      <td>NaN</td>\n",
       "      <td>7.0</td>\n",
       "      <td>Personal Auto</td>\n",
       "      <td>Personal L2</td>\n",
       "      <td>Offer1</td>\n",
       "      <td>Branch</td>\n",
       "      <td>707.925645</td>\n",
       "      <td>Four-Door Car</td>\n",
       "      <td>Medsize</td>\n",
       "      <td>NaN</td>\n",
       "    </tr>\n",
       "  </tbody>\n",
       "</table>\n",
       "<p>5 rows × 26 columns</p>\n",
       "</div>"
      ],
      "text/plain": [
       "   Unnamed: 0 Customer       State  Customer Lifetime Value Response  \\\n",
       "0         0.0  DK49336     Arizona              4809.216960       No   \n",
       "1         1.0  KX64629  California              2228.525238       No   \n",
       "2         2.0  LZ68649  Washington             14947.917300       No   \n",
       "3         3.0  XL78013      Oregon             22332.439460      Yes   \n",
       "4         4.0  QA50777      Oregon              9025.067525       No   \n",
       "\n",
       "   Coverage Education Effective To Date EmploymentStatus Gender  ...  \\\n",
       "0     Basic   College        2011-02-18         Employed      M  ...   \n",
       "1     Basic   College        2011-01-18       Unemployed      F  ...   \n",
       "2     Basic  Bachelor        2011-02-10         Employed      M  ...   \n",
       "3  Extended   College        2011-01-11         Employed      M  ...   \n",
       "4   Premium  Bachelor        2011-01-17    Medical Leave      F  ...   \n",
       "\n",
       "   Number of Open Complaints Number of Policies     Policy Type        Policy  \\\n",
       "0                        0.0                9.0  Corporate Auto  Corporate L3   \n",
       "1                        0.0                1.0   Personal Auto   Personal L3   \n",
       "2                        0.0                2.0   Personal Auto   Personal L3   \n",
       "3                        0.0                2.0  Corporate Auto  Corporate L3   \n",
       "4                        NaN                7.0   Personal Auto   Personal L2   \n",
       "\n",
       "   Renew Offer Type  Sales Channel  Total Claim Amount  Vehicle Class  \\\n",
       "0            Offer3          Agent          292.800000  Four-Door Car   \n",
       "1            Offer4    Call Center          744.924331  Four-Door Car   \n",
       "2            Offer3    Call Center          480.000000            SUV   \n",
       "3            Offer2         Branch          484.013411  Four-Door Car   \n",
       "4            Offer1         Branch          707.925645  Four-Door Car   \n",
       "\n",
       "  Vehicle Size Vehicle Type  \n",
       "0      Medsize          NaN  \n",
       "1      Medsize          NaN  \n",
       "2      Medsize            A  \n",
       "3      Medsize            A  \n",
       "4      Medsize          NaN  \n",
       "\n",
       "[5 rows x 26 columns]"
      ]
     },
     "metadata": {},
     "output_type": "display_data"
    }
   ],
   "source": [
    "data = pd.read_excel('marketing_customer_analysis.xlsx')\n",
    "\n",
    "display(data.shape)\n",
    "display(data.head())"
   ]
  },
  {
   "cell_type": "code",
   "execution_count": 3,
   "id": "bd654ba3",
   "metadata": {},
   "outputs": [
    {
     "data": {
      "text/plain": [
       "Index(['Unnamed: 0', 'Customer', 'State', 'Customer Lifetime Value',\n",
       "       'Response', 'Coverage', 'Education', 'Effective To Date',\n",
       "       'EmploymentStatus', 'Gender', 'Income', 'Location Code',\n",
       "       'Marital Status', 'Monthly Premium Auto', 'Months Since Last Claim',\n",
       "       'Months Since Policy Inception', 'Number of Open Complaints',\n",
       "       'Number of Policies', 'Policy Type', 'Policy', 'Renew Offer Type',\n",
       "       'Sales Channel', 'Total Claim Amount', 'Vehicle Class', 'Vehicle Size',\n",
       "       'Vehicle Type'],\n",
       "      dtype='object')"
      ]
     },
     "metadata": {},
     "output_type": "display_data"
    }
   ],
   "source": [
    "display(data.columns)"
   ]
  },
  {
   "cell_type": "code",
   "execution_count": 4,
   "id": "691b410c",
   "metadata": {},
   "outputs": [
    {
     "data": {
      "text/plain": [
       "Index(['Customer', 'State', 'Customer_lifetime_value', 'Response', 'Coverage',\n",
       "       'Education', 'Effective_to_date', 'Employmentstatus', 'Gender',\n",
       "       'Income', 'Location_code', 'Marital_status', 'Monthly_premium_auto',\n",
       "       'Months_since_last_claim', 'Months_since_policy_inception',\n",
       "       'Number_of_open_complaints', 'Number_of_policies', 'Policy_type',\n",
       "       'Policy', 'Renew_offer_type', 'Sales_channel', 'Total_claim_amount',\n",
       "       'Vehicle_class', 'Vehicle_size', 'Vehicle_type'],\n",
       "      dtype='object')"
      ]
     },
     "metadata": {},
     "output_type": "display_data"
    }
   ],
   "source": [
    "data2 = data.copy()\n",
    "\n",
    "cols = []\n",
    "for column in data2.columns:\n",
    "    cols.append(column.lower().capitalize().replace(\" \",\"_\"))\n",
    "data2.columns = cols  \n",
    "\n",
    "data2 = data2.rename({'Employmentstatus':'Employment_status'})\n",
    "data2 = data2.drop(['Unnamed:_0'],axis=1)\n",
    "\n",
    "display(data2.columns)"
   ]
  },
  {
   "cell_type": "code",
   "execution_count": 5,
   "id": "f696e8d4",
   "metadata": {},
   "outputs": [
    {
     "data": {
      "text/plain": [
       "Customer                                 object\n",
       "State                                    object\n",
       "Customer_lifetime_value                 float64\n",
       "Response                                 object\n",
       "Coverage                                 object\n",
       "Education                                object\n",
       "Effective_to_date                datetime64[ns]\n",
       "Employmentstatus                         object\n",
       "Gender                                   object\n",
       "Income                                  float64\n",
       "Location_code                            object\n",
       "Marital_status                           object\n",
       "Monthly_premium_auto                    float64\n",
       "Months_since_last_claim                 float64\n",
       "Months_since_policy_inception           float64\n",
       "Number_of_open_complaints               float64\n",
       "Number_of_policies                      float64\n",
       "Policy_type                              object\n",
       "Policy                                   object\n",
       "Renew_offer_type                         object\n",
       "Sales_channel                            object\n",
       "Total_claim_amount                      float64\n",
       "Vehicle_class                            object\n",
       "Vehicle_size                             object\n",
       "Vehicle_type                             object\n",
       "dtype: object"
      ]
     },
     "execution_count": 5,
     "metadata": {},
     "output_type": "execute_result"
    }
   ],
   "source": [
    "data2.dtypes"
   ]
  },
  {
   "cell_type": "code",
   "execution_count": 6,
   "id": "367c0915",
   "metadata": {},
   "outputs": [
    {
     "data": {
      "text/plain": [
       "Customer                            0\n",
       "State                             631\n",
       "Customer_lifetime_value             0\n",
       "Response                          631\n",
       "Coverage                            0\n",
       "Education                           0\n",
       "Effective_to_date                   0\n",
       "Employmentstatus                    0\n",
       "Gender                              0\n",
       "Income                              0\n",
       "Location_code                       0\n",
       "Marital_status                      0\n",
       "Monthly_premium_auto                0\n",
       "Months_since_last_claim           633\n",
       "Months_since_policy_inception       0\n",
       "Number_of_open_complaints         633\n",
       "Number_of_policies                  0\n",
       "Policy_type                         0\n",
       "Policy                              0\n",
       "Renew_offer_type                    0\n",
       "Sales_channel                       0\n",
       "Total_claim_amount                  0\n",
       "Vehicle_class                     622\n",
       "Vehicle_size                      622\n",
       "Vehicle_type                     5482\n",
       "dtype: int64"
      ]
     },
     "execution_count": 6,
     "metadata": {},
     "output_type": "execute_result"
    }
   ],
   "source": [
    "data2.isna().sum()"
   ]
  },
  {
   "cell_type": "code",
   "execution_count": 7,
   "id": "c761d11d",
   "metadata": {},
   "outputs": [
    {
     "data": {
      "text/plain": [
       "California    3552\n",
       "Oregon        2909\n",
       "Arizona       1937\n",
       "Nevada         993\n",
       "Washington     888\n",
       "NaN            631\n",
       "Name: State, dtype: int64"
      ]
     },
     "execution_count": 7,
     "metadata": {},
     "output_type": "execute_result"
    }
   ],
   "source": [
    "data2['State'].value_counts(dropna=False)"
   ]
  },
  {
   "cell_type": "code",
   "execution_count": 8,
   "id": "5ec2739a",
   "metadata": {
    "scrolled": false
   },
   "outputs": [
    {
     "data": {
      "text/plain": [
       "California    4183\n",
       "Oregon        2909\n",
       "Arizona       1937\n",
       "Nevada         993\n",
       "Washington     888\n",
       "Name: State, dtype: int64"
      ]
     },
     "metadata": {},
     "output_type": "display_data"
    }
   ],
   "source": [
    "data2['State']=data2['State'].fillna('California')\n",
    "display(data2['State'].value_counts(dropna=False))"
   ]
  },
  {
   "cell_type": "markdown",
   "id": "56eeab05",
   "metadata": {},
   "source": [
    "Because the states here are ojects so I just filled all the missing values with the mode - California. "
   ]
  },
  {
   "cell_type": "code",
   "execution_count": 9,
   "id": "5f60a1e6",
   "metadata": {
    "scrolled": false
   },
   "outputs": [
    {
     "data": {
      "text/plain": [
       "NaN     633\n",
       "3.0     426\n",
       "6.0     394\n",
       "1.0     386\n",
       "7.0     378\n",
       "4.0     373\n",
       "2.0     368\n",
       "5.0     355\n",
       "0.0     354\n",
       "10.0    346\n",
       "16.0    333\n",
       "11.0    331\n",
       "15.0    323\n",
       "13.0    320\n",
       "8.0     315\n",
       "12.0    307\n",
       "17.0    299\n",
       "14.0    299\n",
       "9.0     277\n",
       "19.0    276\n",
       "23.0    276\n",
       "25.0    269\n",
       "21.0    267\n",
       "18.0    257\n",
       "20.0    254\n",
       "22.0    246\n",
       "24.0    237\n",
       "29.0    234\n",
       "28.0    227\n",
       "31.0    221\n",
       "26.0    211\n",
       "27.0    208\n",
       "30.0    201\n",
       "34.0    199\n",
       "33.0    198\n",
       "35.0    157\n",
       "32.0    155\n",
       "Name: Months_since_last_claim, dtype: int64"
      ]
     },
     "execution_count": 9,
     "metadata": {},
     "output_type": "execute_result"
    }
   ],
   "source": [
    "data2['Months_since_last_claim'].value_counts(dropna=False)"
   ]
  },
  {
   "cell_type": "code",
   "execution_count": 10,
   "id": "67569db0",
   "metadata": {
    "scrolled": false
   },
   "outputs": [
    {
     "data": {
      "text/plain": [
       "3.0     426\n",
       "6.0     394\n",
       "1.0     386\n",
       "7.0     378\n",
       "4.0     373\n",
       "2.0     368\n",
       "5.0     355\n",
       "0.0     354\n",
       "10.0    346\n",
       "16.0    333\n",
       "11.0    331\n",
       "15.0    323\n",
       "13.0    320\n",
       "8.0     315\n",
       "12.0    307\n",
       "17.0    299\n",
       "14.0    299\n",
       "9.0     277\n",
       "19.0    276\n",
       "23.0    276\n",
       "21.0    267\n",
       "18.0    257\n",
       "20.0    254\n",
       "22.0    246\n",
       "24.0    237\n",
       "NaN      78\n",
       "25.0     45\n",
       "28.0     38\n",
       "34.0     30\n",
       "29.0     27\n",
       "31.0     25\n",
       "35.0     24\n",
       "33.0     18\n",
       "30.0     18\n",
       "32.0     18\n",
       "27.0     12\n",
       "26.0     12\n",
       "Name: Months_since_last_claim, dtype: int64"
      ]
     },
     "metadata": {},
     "output_type": "display_data"
    }
   ],
   "source": [
    "data2=data2[(data2['Months_since_last_claim']<=24.0) | (data2['Response']=='Yes')]\n",
    "display(data2['Months_since_last_claim'].value_counts(dropna=False))"
   ]
  },
  {
   "cell_type": "markdown",
   "id": "19a093d7",
   "metadata": {},
   "source": [
    "All claims that were made more than 24 months ago and from cutomers who have not responsed yet are excluded due to their inactivity. The other Nah values are kept nevertheless. "
   ]
  },
  {
   "cell_type": "code",
   "execution_count": 11,
   "id": "d627d6cf",
   "metadata": {},
   "outputs": [
    {
     "data": {
      "text/plain": [
       "count    8264.000000\n",
       "mean        0.386859\n",
       "std         0.920816\n",
       "min         0.000000\n",
       "25%         0.000000\n",
       "50%         0.000000\n",
       "75%         0.000000\n",
       "max         5.000000\n",
       "Name: Number_of_open_complaints, dtype: float64"
      ]
     },
     "execution_count": 11,
     "metadata": {},
     "output_type": "execute_result"
    }
   ],
   "source": [
    "data2['Number_of_open_complaints'].describe()"
   ]
  },
  {
   "cell_type": "code",
   "execution_count": 12,
   "id": "4a3b3773",
   "metadata": {
    "scrolled": false
   },
   "outputs": [
    {
     "data": {
      "text/plain": [
       "0.0    6648\n",
       "1.0     904\n",
       "2.0     326\n",
       "3.0     273\n",
       "4.0     133\n",
       "5.0      58\n",
       "Name: Number_of_open_complaints, dtype: int64"
      ]
     },
     "metadata": {},
     "output_type": "display_data"
    }
   ],
   "source": [
    "data2['Number_of_open_complaints']=data2['Number_of_open_complaints'].fillna(data2['Number_of_open_complaints'].median())\n",
    "display(data2['Number_of_open_complaints'].value_counts())"
   ]
  },
  {
   "cell_type": "markdown",
   "id": "7dfaa455",
   "metadata": {},
   "source": [
    "Based on the statistical outputs of the variable, the data follows the pattern of a positively-skewed distribution. That means, the mean value is greater than the median and the median is greater than the mode. So I replaced all the Nah values with the median value.  "
   ]
  },
  {
   "cell_type": "code",
   "execution_count": 13,
   "id": "46e72cd6",
   "metadata": {
    "scrolled": false
   },
   "outputs": [
    {
     "data": {
      "text/html": [
       "<div>\n",
       "<style scoped>\n",
       "    .dataframe tbody tr th:only-of-type {\n",
       "        vertical-align: middle;\n",
       "    }\n",
       "\n",
       "    .dataframe tbody tr th {\n",
       "        vertical-align: top;\n",
       "    }\n",
       "\n",
       "    .dataframe thead th {\n",
       "        text-align: right;\n",
       "    }\n",
       "</style>\n",
       "<table border=\"1\" class=\"dataframe\">\n",
       "  <thead>\n",
       "    <tr style=\"text-align: right;\">\n",
       "      <th></th>\n",
       "      <th>Customer</th>\n",
       "      <th>State</th>\n",
       "      <th>Customer_lifetime_value</th>\n",
       "      <th>Response</th>\n",
       "      <th>Coverage</th>\n",
       "      <th>Education</th>\n",
       "      <th>Effective_to_date</th>\n",
       "      <th>Employmentstatus</th>\n",
       "      <th>Gender</th>\n",
       "      <th>Income</th>\n",
       "      <th>...</th>\n",
       "      <th>Number_of_policies</th>\n",
       "      <th>Policy_type</th>\n",
       "      <th>Policy</th>\n",
       "      <th>Renew_offer_type</th>\n",
       "      <th>Sales_channel</th>\n",
       "      <th>Total_claim_amount</th>\n",
       "      <th>Vehicle_class</th>\n",
       "      <th>Vehicle_size</th>\n",
       "      <th>Vehicle_type</th>\n",
       "      <th>Effective_month</th>\n",
       "    </tr>\n",
       "  </thead>\n",
       "  <tbody>\n",
       "    <tr>\n",
       "      <th>0</th>\n",
       "      <td>DK49336</td>\n",
       "      <td>Arizona</td>\n",
       "      <td>4809.216960</td>\n",
       "      <td>No</td>\n",
       "      <td>Basic</td>\n",
       "      <td>College</td>\n",
       "      <td>2011-02-18</td>\n",
       "      <td>Employed</td>\n",
       "      <td>M</td>\n",
       "      <td>48029.0</td>\n",
       "      <td>...</td>\n",
       "      <td>9.0</td>\n",
       "      <td>Corporate Auto</td>\n",
       "      <td>Corporate L3</td>\n",
       "      <td>Offer3</td>\n",
       "      <td>Agent</td>\n",
       "      <td>292.800000</td>\n",
       "      <td>Four-Door Car</td>\n",
       "      <td>Medsize</td>\n",
       "      <td>NaN</td>\n",
       "      <td>February</td>\n",
       "    </tr>\n",
       "    <tr>\n",
       "      <th>1</th>\n",
       "      <td>KX64629</td>\n",
       "      <td>California</td>\n",
       "      <td>2228.525238</td>\n",
       "      <td>No</td>\n",
       "      <td>Basic</td>\n",
       "      <td>College</td>\n",
       "      <td>2011-01-18</td>\n",
       "      <td>Unemployed</td>\n",
       "      <td>F</td>\n",
       "      <td>0.0</td>\n",
       "      <td>...</td>\n",
       "      <td>1.0</td>\n",
       "      <td>Personal Auto</td>\n",
       "      <td>Personal L3</td>\n",
       "      <td>Offer4</td>\n",
       "      <td>Call Center</td>\n",
       "      <td>744.924331</td>\n",
       "      <td>Four-Door Car</td>\n",
       "      <td>Medsize</td>\n",
       "      <td>NaN</td>\n",
       "      <td>January</td>\n",
       "    </tr>\n",
       "    <tr>\n",
       "      <th>3</th>\n",
       "      <td>XL78013</td>\n",
       "      <td>Oregon</td>\n",
       "      <td>22332.439460</td>\n",
       "      <td>Yes</td>\n",
       "      <td>Extended</td>\n",
       "      <td>College</td>\n",
       "      <td>2011-01-11</td>\n",
       "      <td>Employed</td>\n",
       "      <td>M</td>\n",
       "      <td>49078.0</td>\n",
       "      <td>...</td>\n",
       "      <td>2.0</td>\n",
       "      <td>Corporate Auto</td>\n",
       "      <td>Corporate L3</td>\n",
       "      <td>Offer2</td>\n",
       "      <td>Branch</td>\n",
       "      <td>484.013411</td>\n",
       "      <td>Four-Door Car</td>\n",
       "      <td>Medsize</td>\n",
       "      <td>A</td>\n",
       "      <td>January</td>\n",
       "    </tr>\n",
       "    <tr>\n",
       "      <th>5</th>\n",
       "      <td>HO81102</td>\n",
       "      <td>California</td>\n",
       "      <td>4745.181764</td>\n",
       "      <td>NaN</td>\n",
       "      <td>Basic</td>\n",
       "      <td>High School or Below</td>\n",
       "      <td>2011-02-14</td>\n",
       "      <td>Employed</td>\n",
       "      <td>M</td>\n",
       "      <td>50549.0</td>\n",
       "      <td>...</td>\n",
       "      <td>7.0</td>\n",
       "      <td>Personal Auto</td>\n",
       "      <td>Personal L3</td>\n",
       "      <td>Offer1</td>\n",
       "      <td>Agent</td>\n",
       "      <td>292.800000</td>\n",
       "      <td>Four-Door Car</td>\n",
       "      <td>Medsize</td>\n",
       "      <td>A</td>\n",
       "      <td>February</td>\n",
       "    </tr>\n",
       "    <tr>\n",
       "      <th>6</th>\n",
       "      <td>IW72280</td>\n",
       "      <td>California</td>\n",
       "      <td>5035.035257</td>\n",
       "      <td>No</td>\n",
       "      <td>Basic</td>\n",
       "      <td>Doctor</td>\n",
       "      <td>2011-02-14</td>\n",
       "      <td>Employed</td>\n",
       "      <td>F</td>\n",
       "      <td>37405.0</td>\n",
       "      <td>...</td>\n",
       "      <td>4.0</td>\n",
       "      <td>Corporate Auto</td>\n",
       "      <td>Corporate L2</td>\n",
       "      <td>Offer2</td>\n",
       "      <td>Branch</td>\n",
       "      <td>287.556107</td>\n",
       "      <td>Four-Door Car</td>\n",
       "      <td>Medsize</td>\n",
       "      <td>NaN</td>\n",
       "      <td>February</td>\n",
       "    </tr>\n",
       "  </tbody>\n",
       "</table>\n",
       "<p>5 rows × 26 columns</p>\n",
       "</div>"
      ],
      "text/plain": [
       "  Customer       State  Customer_lifetime_value Response  Coverage  \\\n",
       "0  DK49336     Arizona              4809.216960       No     Basic   \n",
       "1  KX64629  California              2228.525238       No     Basic   \n",
       "3  XL78013      Oregon             22332.439460      Yes  Extended   \n",
       "5  HO81102  California              4745.181764      NaN     Basic   \n",
       "6  IW72280  California              5035.035257       No     Basic   \n",
       "\n",
       "              Education Effective_to_date Employmentstatus Gender   Income  \\\n",
       "0               College        2011-02-18         Employed      M  48029.0   \n",
       "1               College        2011-01-18       Unemployed      F      0.0   \n",
       "3               College        2011-01-11         Employed      M  49078.0   \n",
       "5  High School or Below        2011-02-14         Employed      M  50549.0   \n",
       "6                Doctor        2011-02-14         Employed      F  37405.0   \n",
       "\n",
       "   ... Number_of_policies     Policy_type        Policy  Renew_offer_type  \\\n",
       "0  ...                9.0  Corporate Auto  Corporate L3            Offer3   \n",
       "1  ...                1.0   Personal Auto   Personal L3            Offer4   \n",
       "3  ...                2.0  Corporate Auto  Corporate L3            Offer2   \n",
       "5  ...                7.0   Personal Auto   Personal L3            Offer1   \n",
       "6  ...                4.0  Corporate Auto  Corporate L2            Offer2   \n",
       "\n",
       "   Sales_channel  Total_claim_amount  Vehicle_class Vehicle_size Vehicle_type  \\\n",
       "0          Agent          292.800000  Four-Door Car      Medsize          NaN   \n",
       "1    Call Center          744.924331  Four-Door Car      Medsize          NaN   \n",
       "3         Branch          484.013411  Four-Door Car      Medsize            A   \n",
       "5          Agent          292.800000  Four-Door Car      Medsize            A   \n",
       "6         Branch          287.556107  Four-Door Car      Medsize          NaN   \n",
       "\n",
       "  Effective_month  \n",
       "0        February  \n",
       "1         January  \n",
       "3         January  \n",
       "5        February  \n",
       "6        February  \n",
       "\n",
       "[5 rows x 26 columns]"
      ]
     },
     "metadata": {},
     "output_type": "display_data"
    },
    {
     "data": {
      "text/plain": [
       "January     4443\n",
       "February    3899\n",
       "Name: Effective_month, dtype: int64"
      ]
     },
     "metadata": {},
     "output_type": "display_data"
    }
   ],
   "source": [
    "data2['Effective_month'] = data2['Effective_to_date'].dt.strftime('%B')\n",
    "display(data2.head())\n",
    "display(data2['Effective_month'].value_counts(dropna=False))"
   ]
  },
  {
   "cell_type": "markdown",
   "id": "dde2b8c8",
   "metadata": {},
   "source": [
    "No need to furthr filter as all the months recorded are in Q1. "
   ]
  }
 ],
 "metadata": {
  "kernelspec": {
   "display_name": "Python 3 (ipykernel)",
   "language": "python",
   "name": "python3"
  },
  "language_info": {
   "codemirror_mode": {
    "name": "ipython",
    "version": 3
   },
   "file_extension": ".py",
   "mimetype": "text/x-python",
   "name": "python",
   "nbconvert_exporter": "python",
   "pygments_lexer": "ipython3",
   "version": "3.9.12"
  }
 },
 "nbformat": 4,
 "nbformat_minor": 5
}
